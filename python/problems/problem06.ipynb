{
 "cells": [
  {
   "cell_type": "markdown",
   "metadata": {},
   "source": [
    "# 메소드 없는 세상 <1>\n",
    "\n",
    "> 알파벳으로 이뤄진 word를 입력받아 알파벳 대소문자를 서로 교환한 결과를 반환하는 `my_swapcase(word)`를 작성해주세요.\n",
    "\n",
    "**`.upper()`, `.lower()`, `swapcase()`는 사용하지 말아주세요.**\n",
    "\n",
    "**Tip! 문자와 숫자에는 특별한 관계가 있습니다. Google에서 아스키 코드를 참고하세요**\n",
    "\n",
    "```python\n",
    "# 예시\n",
    "print(my_swapcase('hello, World!')) # => HELLO, wORLD!\n",
    "print(my_swapcase('@_@')) # => @_@\n",
    "print(my_swapcase('2^3은 8이다!')) # => 2^3은 8이다!\n",
    "```"
   ]
  },
  {
   "cell_type": "code",
   "execution_count": null,
   "metadata": {},
   "outputs": [],
   "source": [
    "chr(ord('D')+32)\n",
    "# 65 - 122"
   ]
  },
  {
   "cell_type": "code",
   "execution_count": 359,
   "metadata": {},
   "outputs": [],
   "source": [
    "  # 아래에 코드를 작성해주세요.\n",
    "def my_swapcase(word):\n",
    "    result =''\n",
    "    for value in word:\n",
    "        if ord(value)>= 65 and ord(value) < 91:\n",
    "            result += chr(ord(value) + 32)\n",
    "            \n",
    "        elif ord(value)>=97 and ord(value) < 123:\n",
    "            result += chr(ord(value) - 32)   \n",
    "        else:\n",
    "            result += value\n",
    "    return result\n",
    "\n",
    "\n",
    "# 선생님 코드\n",
    "'''\n",
    "대문자 -> 소문자 : +32\n",
    "소문자 -> 대문자 : -32\n",
    "'''\n",
    "def my_swapcase2(word):\n",
    "    result = ''\n",
    "    for char in word:\n",
    "        if 65 <= ord(char) <= 90:\n",
    "            result += chr(ord(char) + 32)\n",
    "        elif 97 <= ord(char) <= 122:\n",
    "            result += chr(ord(char) - 32)\n",
    "        else:\n",
    "            result += char\n",
    "    return result\n",
    "        "
   ]
  },
  {
   "cell_type": "code",
   "execution_count": 361,
   "metadata": {},
   "outputs": [
    {
     "name": "stdout",
     "output_type": "stream",
     "text": [
      "HELLO, wORLD!\n",
      "@_@\n",
      "2^3은 8이다!\n",
      "================================\n",
      "HELLO, wORLD!\n",
      "@_@\n",
      "2^3은 8이다!\n"
     ]
    }
   ],
   "source": [
    "print(my_swapcase('hello, World!'))\n",
    "print(my_swapcase('@_@'))\n",
    "print(my_swapcase('2^3은 8이다!'))\n",
    "print('================================')\n",
    "print(my_swapcase2('hello, World!'))\n",
    "print(my_swapcase2('@_@'))\n",
    "print(my_swapcase2('2^3은 8이다!'))"
   ]
  },
  {
   "cell_type": "markdown",
   "metadata": {},
   "source": [
    "# 메소드 없는 세상 <2>\n",
    "\n",
    "> 우리는 문자열을 만들어 나갈 때, `.join(iterable)` 함수를 사용합니다. \n",
    ">\n",
    "> `.join(iterable)`이 생각나지 않을 때를 위해 직접 만들어보면서 감사함을 느껴봅시다.\n",
    ">\n",
    "> `my_join(target, word)`를 만들어 문자열을 반환해주세요.\n",
    ">\n",
    "> target은 바꿀 대상(iterable)이며, word는 합쳐지는 단어입니다. \n",
    "\n",
    "---\n",
    "\n",
    "\n",
    "예시)\n",
    "\n",
    "`''.join(a)` 와 `my_join(a, '')`은 같은 함수 호출입니다.\n",
    "\n",
    "```python\n",
    "print(my_join('배고파', '.')) # => 배.고.파\n",
    "print(my_join(['1', '2', '3'], '')) # => 123\n",
    "```"
   ]
  },
  {
   "cell_type": "code",
   "execution_count": 369,
   "metadata": {},
   "outputs": [],
   "source": [
    "# 아래에 코드를 작성해주세요.\n",
    "def my_join(target, word):\n",
    "    result = ''\n",
    "    for value in target:\n",
    "        result += value + word\n",
    "    \n",
    "    if result[-1] == word: # 만약 마지막값이 word 단어이면 걔를 빼버려\n",
    "        result = result[:-1]      \n",
    "    \n",
    "    return result\n",
    "\n",
    "# 선생님코드1\n",
    "def my_join2(target, word):\n",
    "    result = ''\n",
    "    for idx, char in enumerate(target):\n",
    "        # 난 지금 마지막 횟수인 것을 알고 싶다..\n",
    "        # => 반복문 돌 때마다 카운트, 마지막일때 len(target)\n",
    "        if idx+1 == len(target):\n",
    "            result += char\n",
    "        else:\n",
    "            result += char + word\n",
    "    return result\n",
    "\n",
    "\n",
    "# 선생님코드2\n",
    "def my_join3(target, word):\n",
    "    result = ''\n",
    "    for value in target:\n",
    "        result += value + word\n",
    "    \n",
    "    return result[:-1] if result[-1] == word else result\n",
    "\n",
    "# 첫번째 먼저 넣어버리고 word + char\n",
    "def my_join4(target, word):\n",
    "    result = target[0]\n",
    "    for value in target[1:]:\n",
    "        result += word + value\n",
    "    \n",
    "    return result[:-1] if result[-1] == word else result\n"
   ]
  },
  {
   "cell_type": "code",
   "execution_count": 370,
   "metadata": {},
   "outputs": [
    {
     "name": "stdout",
     "output_type": "stream",
     "text": [
      "배.고.파\n",
      "123\n",
      "================================\n",
      "배.고.파\n",
      "123\n",
      "================================\n",
      "배.고.파\n",
      "123\n",
      "================================\n",
      "배.고.파\n",
      "123\n"
     ]
    }
   ],
   "source": [
    "print(my_join('배고파', '.'))\n",
    "print(my_join(['1', '2', '3'], ''))\n",
    "print('================================')\n",
    "print(my_join2('배고파', '.'))\n",
    "print(my_join2(['1', '2', '3'], ''))\n",
    "print('================================')\n",
    "print(my_join3('배고파', '.'))\n",
    "print(my_join3(['1', '2', '3'], ''))\n",
    "print('================================')\n",
    "print(my_join4('배고파', '.'))\n",
    "print(my_join4(['1', '2', '3'], ''))"
   ]
  },
  {
   "cell_type": "markdown",
   "metadata": {},
   "source": [
    "#  가능한 적게 변경하기\n",
    "\n",
    "> 대문자와 소문자가 혼합되어 있는 문자열어 주어지며\n",
    ">\n",
    "> 다음의 기준에 따라서 문자열을 소문자 혹은 대문자로 변환하세요.\n",
    "\n",
    "\n",
    "*  가능한 적게 변경하세요.\n",
    "*  만약에 문자열의 대문자 혹은 소문자가 같다면, 문자열을 모두 소문자로 변경하세요.\n",
    "\n",
    "--- \n",
    "\n",
    "```python\n",
    "# 예시 입력) \n",
    "print(solve('coDe'))\n",
    "print(solve('CODe'))\n",
    "print(solve('coDE'))\n",
    "\n",
    "# 예시 출력)\n",
    "'code'\n",
    "'CODE'\n",
    "'code'\n",
    "```"
   ]
  },
  {
   "cell_type": "code",
   "execution_count": 371,
   "metadata": {},
   "outputs": [],
   "source": [
    "# 아래에 코드를 작성해주세요.\n",
    "def solve(word):\n",
    "    result = ''\n",
    "    BIG_cnt = 0\n",
    "    SMALL_cnt = 0\n",
    "    \n",
    "    for value in word:\n",
    "        if ord(value) >= 65 and ord(value) <= 90:\n",
    "            BIG_cnt += 1\n",
    "        else:\n",
    "            SMALL_cnt += 1\n",
    "            \n",
    "    if BIG_cnt > SMALL_cnt:\n",
    "        result = word.upper()\n",
    "    elif SMALL_cnt >= BIG_cnt:\n",
    "        result = word.lower()\n",
    "\n",
    "    \n",
    "    return result\n",
    "    "
   ]
  },
  {
   "cell_type": "code",
   "execution_count": 372,
   "metadata": {},
   "outputs": [
    {
     "name": "stdout",
     "output_type": "stream",
     "text": [
      "code\n",
      "CODE\n",
      "code\n"
     ]
    }
   ],
   "source": [
    "print(solve('coDe'))\n",
    "print(solve('CODe'))\n",
    "print(solve('coDE'))"
   ]
  },
  {
   "cell_type": "markdown",
   "metadata": {},
   "source": [
    "# 숨바꼭질\n",
    "\n",
    "> 숫자가 주어지면, 사용되지 않은 숫자를 프린트하세요.\n",
    "\n",
    "---\n",
    "\n",
    "```python\n",
    "# 예시)\n",
    "unused_digits(12, 34, 56, 78) # => '09'\n",
    "\n",
    "unused_digits(2015, 8, 26)  # => '3479'\n",
    "```\n",
    "\n",
    "\n",
    "**결과값은 정렬되어야 합니다.**\n",
    "\n"
   ]
  },
  {
   "cell_type": "code",
   "execution_count": 177,
   "metadata": {},
   "outputs": [
    {
     "name": "stdout",
     "output_type": "stream",
     "text": [
      "12345679\n"
     ]
    }
   ],
   "source": [
    "a = '123456789'\n",
    "num = 8\n",
    "if str(num) in a:\n",
    "    b = a.replace(str(num),'')\n",
    "    print(b)\n"
   ]
  },
  {
   "cell_type": "code",
   "execution_count": 384,
   "metadata": {},
   "outputs": [],
   "source": [
    "# # 아래에 코드를 작성해주세요.\n",
    "# def unused_digits(*numbers):\n",
    "#     word = ''\n",
    "#     compare_word = '0123456789'\n",
    "#     result=''\n",
    "    \n",
    "#     for i in range(len(numbers)):\n",
    "#         word += str(numbers[i])\n",
    "    \n",
    "# #     return word\n",
    "    \n",
    "#     for num in range(len(word)):\n",
    "#         if str(num) in compare_word:\n",
    "#             a = compare_word.replace(str(num),'')\n",
    "    \n",
    "#     return a\n",
    "\n",
    "\n",
    "# 선생님 코드\n",
    "def unused_digits(*numbers):\n",
    "    result = set('1234567890')\n",
    "    for num in numbers:\n",
    "        result -= set(str(num))\n",
    "\n",
    "    return ''.join(sorted(result))"
   ]
  },
  {
   "cell_type": "code",
   "execution_count": 382,
   "metadata": {},
   "outputs": [
    {
     "data": {
      "text/plain": [
       "{'0', '1', '2', '3', '4', '5', '6', '7', '8', '9'}"
      ]
     },
     "execution_count": 382,
     "metadata": {},
     "output_type": "execute_result"
    }
   ],
   "source": [
    "set('1234567890')"
   ]
  },
  {
   "cell_type": "code",
   "execution_count": 383,
   "metadata": {},
   "outputs": [
    {
     "name": "stdout",
     "output_type": "stream",
     "text": [
      "0123456789\n"
     ]
    }
   ],
   "source": [
    "result = ''.join(sorted('0513268794')) # ''.join() => 리스트/배열을 문자열로 합치기\n",
    "print(result)"
   ]
  },
  {
   "cell_type": "code",
   "execution_count": 385,
   "metadata": {},
   "outputs": [
    {
     "name": "stdout",
     "output_type": "stream",
     "text": [
      "09\n",
      "3479\n"
     ]
    }
   ],
   "source": [
    "print(unused_digits(12, 34, 56, 78))\n",
    "print(unused_digits(2015, 8, 26))"
   ]
  },
  {
   "cell_type": "markdown",
   "metadata": {},
   "source": [
    "# 짝홀짝홀"
   ]
  },
  {
   "cell_type": "markdown",
   "metadata": {},
   "source": [
    "> n개의 양의 정수 리스트가 주어지면, 홀수와 짝수를 분리하고 각각의 조건에 맞게 홀수와 짝수를 \n",
    "정렬하세요.\n",
    "\n",
    "> 조건\n",
    "1. 짝수와 홀수가 번갈아 가면서 나오게 됩니다.\n",
    "2. 짝수가 먼저 시작됩니다.\n",
    "3. 짝수는 오름차순으로 홀수는 내림차순으로 되어야합니다.\n",
    "\n",
    "> 실습 입력 인자 조건\n",
    "1. 인자 리스트의 크기는 적어도 4이상입니다.\n",
    "2. 인자 리스트의 요소값으로 0은 존재하지 않습니다.\n",
    "3. 인자 리스트의 요소값이 반복될 수 있으나 출력할 때는 중복 값이 없습니다.\n",
    "\n",
    "```python\n",
    "# 예시) \n",
    "\n",
    "print(even_and_odd([7, 3 , 14 , 17]))\n",
    "# => [14, 17, 7, 3]\n",
    "\n",
    "print(even_and_odd([1, 3, 5, 7, 9, 11]))\n",
    "# => [11, 9, 7, 5, 3, 1]\n",
    "\n",
    "print(even_and_odd([1, 2, 2, 4, 4, 6, 6, 2004, 9, 11]))\n",
    "# => [2, 11, 4, 9, 6, 1, 2004]\n",
    "```"
   ]
  },
  {
   "cell_type": "code",
   "execution_count": null,
   "metadata": {},
   "outputs": [],
   "source": [
    "a = [1, 2, 3]\n",
    "a[-1] #마지막 것\n",
    "a[:-1] # 마지막 것만 빼고\n",
    "a[::-1] # 뒤집자"
   ]
  },
  {
   "cell_type": "code",
   "execution_count": 290,
   "metadata": {},
   "outputs": [],
   "source": [
    "# 여기에 코드를 작성하세요\n",
    "def even_and_odd(x):\n",
    "    even = []\n",
    "    odd = []\n",
    "    result = []\n",
    "    \n",
    "    for i in range(len(x)):\n",
    "        if x[i] % 2 == 0 and x[i] not in even: #짝수이고 중복아니면\n",
    "            even.append(x[i]) # even리스트에 추가하여라\n",
    "        elif x[i] % 2 != 0 and x[i] not in odd:\n",
    "            odd.append(x[i]) # odd리스트에 추가하여라\n",
    "        \n",
    "    odd.sort(reverse=True) # odd이면 내림차순\n",
    "    even.sort() # even이면 오름차순\n",
    "    \n",
    "    \n",
    "    for i in range(len(x)): # 리스트의 길이만큼 반복문 => 여기서 if문 두개 쓰는 이유 : 길이 같을때까지 돌아가다가\n",
    "                            # even이 먼저 끝나면 odd만 반복문 돌겠지! odd도 마찬가지!!\n",
    "        \n",
    "        if i <= len(even)-1: # 만약 짝수리스트 길이보다 작으면\n",
    "            result.append(even[i]) # result리스트에 추가해라\n",
    "            \n",
    "        if i <= len(odd)-1: # 만약 홀수리스트 길이보다 작으면 result리스트에 추가하여라\n",
    "            result.append(odd[i])\n",
    "            \n",
    "    return result\n",
    "    \n",
    "\n",
    "    \n",
    "#     for even_value, odd_value in zip(even, odd): # even, odd리스트에서 번갈아 가져와서 새로운 리스트를 만든다 => zip\n",
    "#         result.append(even_value)\n",
    "#         result.append(odd_value)\n",
    "#     return result\n",
    "\n",
    "#     for i in \n",
    "#     result.append(even)\n",
    "\n",
    "\n",
    "# 선생님 코드2\n",
    "def even_and_odd2():\n",
    "    even = [i for i in sorted((set(numbers))) if not i%2]\n",
    "    odd = [i for i in sorted((set(numbers))) if i%2][::-1]\n",
    "    \n",
    "        "
   ]
  },
  {
   "cell_type": "code",
   "execution_count": 291,
   "metadata": {
    "scrolled": true
   },
   "outputs": [
    {
     "name": "stdout",
     "output_type": "stream",
     "text": [
      "[14, 17, 7, 3]\n",
      "[11, 9, 7, 5, 3, 1]\n",
      "[2, 11, 4, 9, 6, 1, 2004]\n"
     ]
    }
   ],
   "source": [
    "print(even_and_odd([7, 3, 14, 17]))\n",
    "print(even_and_odd([1, 3, 5, 7, 9, 11]))\n",
    "print(even_and_odd([1, 2, 2, 4, 4, 6, 6, 2004, 9, 11]))"
   ]
  },
  {
   "cell_type": "markdown",
   "metadata": {},
   "source": [
    "# 문자열 계산하기\n",
    "\n",
    "> 아래와 같이 문자열이 주어졌을 때, 바보같은 사용자를 위해 계산을 해주려고 한다.\n",
    ">\n",
    "> 이 계산기는 더하기와 빼기밖에 못한다.\n",
    ">\n",
    "> `calc(equation)`을 만들어봅시다.\n",
    "\n",
    "\n",
    "```python\n",
    "# 예시\n",
    "calc('123+2-124')\n",
    "#=> 1\n",
    "\n",
    "calc('-12+12-7979+9191')\n",
    "#=> 1212\n",
    "\n",
    "calc('+1-1+1-1+1-1+1-1+1-1+1-1+1-1+1-1+1-1+1-1+1-1+1-1+1-1+1-1+1-1+1-1')\n",
    "#=> 0\n",
    "```"
   ]
  },
  {
   "cell_type": "code",
   "execution_count": 400,
   "metadata": {},
   "outputs": [],
   "source": [
    "# 여기에 코드를 작성하세요.\n",
    "# 부호를 만났다 숫자 저장해놔\n",
    "# 한번 반복문 \n",
    "\n",
    "def calc(equation):\n",
    "    num = [] # 숫자들을 저장할 통\n",
    "    number = '' # 문자열들을 검사해서 \n",
    "\n",
    "    for i in range(len(equation)): # i = 0 ~ 문자열 길이까지 \n",
    "        if equation[i] not in '123456789' and i != 0: # 만약 하나씩 꺼낸 문자가 1에서 9까지의 숫자가 아니고, 첫번째값이 아니라면  => 부호라는 소리\n",
    "            num.append(int(number))\n",
    "            number = ''\n",
    "        elif i == len(equation)-1: # 문자열 마지막만 검사\n",
    "            number += equation[i]\n",
    "            num.append(int(number))\n",
    "            \n",
    "        else: # 숫자라면\n",
    "            number += equation[i]\n",
    "            \n",
    "    return sum(num)\n",
    "\n",
    "# 선생님코드\n",
    "def calc2(equation):\n",
    "    result = 0\n",
    "    tmp = ''\n",
    "    \n",
    "    for char in equation:\n",
    "        if tmp and not char.isdecimal() : # 만약 이 char가 숫자가 아니면(부호)  == if not char in '0123456789' 이랑 같다\n",
    "            #result에 숫자를 더해서 만들고,\n",
    "            result += int(tmp)\n",
    "            #tmp초기화 -> 부호만\n",
    "            tmp = ''\n",
    "        tmp += char\n",
    "    return result + int(tmp)\n",
    "        "
   ]
  },
  {
   "cell_type": "code",
   "execution_count": 401,
   "metadata": {},
   "outputs": [
    {
     "name": "stdout",
     "output_type": "stream",
     "text": [
      "1\n",
      "1212\n",
      "0\n"
     ]
    }
   ],
   "source": [
    "print(calc2('123+2-124'))\n",
    "print(calc2('-12+12-7979+9191'))\n",
    "print(calc2('+1-1+1-1+1-1+1-1+1-1+1-1+1-1+1-1+1-1+1-1+1-1+1-1+1-1+1-1+1-1+1-1'))"
   ]
  },
  {
   "cell_type": "code",
   "execution_count": 340,
   "metadata": {},
   "outputs": [
    {
     "data": {
      "text/plain": [
       "[1, 2, 3]"
      ]
     },
     "execution_count": 340,
     "metadata": {},
     "output_type": "execute_result"
    }
   ],
   "source": [
    "calc('123')"
   ]
  }
 ],
 "metadata": {
  "kernelspec": {
   "display_name": "Python 3",
   "language": "python",
   "name": "python3"
  },
  "language_info": {
   "codemirror_mode": {
    "name": "ipython",
    "version": 3
   },
   "file_extension": ".py",
   "mimetype": "text/x-python",
   "name": "python",
   "nbconvert_exporter": "python",
   "pygments_lexer": "ipython3",
   "version": "3.7.3"
  },
  "latex_envs": {
   "LaTeX_envs_menu_present": true,
   "autoclose": false,
   "autocomplete": true,
   "bibliofile": "biblio.bib",
   "cite_by": "apalike",
   "current_citInitial": 1,
   "eqLabelWithNumbers": true,
   "eqNumInitial": 1,
   "hotkeys": {
    "equation": "Ctrl-E",
    "itemize": "Ctrl-I"
   },
   "labels_anchors": false,
   "latex_user_defs": false,
   "report_style_numbering": false,
   "user_envs_cfg": false
  },
  "toc": {
   "base_numbering": 1,
   "nav_menu": {},
   "number_sections": true,
   "sideBar": true,
   "skip_h1_title": false,
   "title_cell": "Table of Contents",
   "title_sidebar": "Contents",
   "toc_cell": false,
   "toc_position": {},
   "toc_section_display": true,
   "toc_window_display": false
  }
 },
 "nbformat": 4,
 "nbformat_minor": 2
}
