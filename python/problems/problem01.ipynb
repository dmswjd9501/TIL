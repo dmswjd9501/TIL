{
 "cells": [
  {
   "cell_type": "markdown",
   "metadata": {},
   "source": [
    "# 상승장? 하락장?\n",
    "\n",
    "> 최고가와 최저가의 차이를 변동폭으로 정의할 때 (시가 + 변동폭)이 최고가 보다 높을 경우 \"상승장\", 그렇지 않은 경우 \"하락장\" 문자열을 출력하라.\n",
    "\n",
    "|Key Name|Description|\n",
    "|------|---|\n",
    "|opeing_price|최근 24시간 내 시작 거래금액|\n",
    "|closing_price|최근 24시간 내 마지막 거래금액|\n",
    "|min_price|최근 24시간 내 최저 거래금액|\n",
    "|max_price|최근 24시간 내 최고 거래금액|"
   ]
  },
  {
   "cell_type": "code",
   "execution_count": 2,
   "metadata": {},
   "outputs": [
    {
     "name": "stdout",
     "output_type": "stream",
     "text": [
      "{'24H_fluctate': '-1309000',\n",
      " '24H_fluctate_rate': '-9.62',\n",
      " 'average_price': '12700132.1294',\n",
      " 'buy_price': '12290000',\n",
      " 'closing_price': '12297000',\n",
      " 'date': '1563170618954',\n",
      " 'max_price': '13648000',\n",
      " 'min_price': '11879000',\n",
      " 'opening_price': '13606000',\n",
      " 'sell_price': '12296000',\n",
      " 'units_traded': '16823.89082349',\n",
      " 'volume_1day': '16823.89082349',\n",
      " 'volume_7day': '90000.82763557'}\n"
     ]
    }
   ],
   "source": [
    "import requests\n",
    "import pprint\n",
    "\n",
    "url = \"https://api.bithumb.com/public/ticker/btc\"\n",
    "data = requests.get(url).json()['data']\n",
    "pprint.pprint(data)"
   ]
  },
  {
   "cell_type": "code",
   "execution_count": 88,
   "metadata": {},
   "outputs": [
    {
     "name": "stdout",
     "output_type": "stream",
     "text": [
      "상승장\n"
     ]
    }
   ],
   "source": [
    "# 강사님 코드\n",
    "if int(data['opening_price']) + int(data['max_price']) - int(data['min_price']) > int(data['max_price']):\n",
    "    print('상승장')\n",
    "else:\n",
    "    print('하락장')"
   ]
  },
  {
   "cell_type": "code",
   "execution_count": 90,
   "metadata": {},
   "outputs": [
    {
     "name": "stdout",
     "output_type": "stream",
     "text": [
      "상승장\n"
     ]
    }
   ],
   "source": [
    "# 내 코드\n",
    "\n",
    "change_term = int(data['max_price']) - int(data['min_price'])\n",
    "opening_change = int(data['opening_price']) + change_term\n",
    "\n",
    "if opening_change > int(data['max_price']):\n",
    "    print('상승장')\n",
    "else:\n",
    "    print('하락장')"
   ]
  },
  {
   "cell_type": "markdown",
   "metadata": {},
   "source": [
    "# 모음 제거하기\n",
    "\n",
    "> 다음 문장의 모음을 제거하여 출력하세요.\n",
    "\n",
    "```\n",
    "예시 입력)\n",
    "\"Life is too short, you need python\"\n",
    "예시 출력)\n",
    "Lf s t shrt, y nd pythn\n",
    "```"
   ]
  },
  {
   "cell_type": "code",
   "execution_count": 10,
   "metadata": {},
   "outputs": [],
   "source": [
    "my_str = \"Life is too short, you need python\""
   ]
  },
  {
   "cell_type": "code",
   "execution_count": 93,
   "metadata": {},
   "outputs": [
    {
     "name": "stdout",
     "output_type": "stream",
     "text": [
      "Lf s t shrt, y nd pythn\n"
     ]
    }
   ],
   "source": [
    "# 강사님 코드 1번 => 문자가 어디에 들어있는지 알아볼 수 있는게 파이썬의 장점\n",
    "result = '' # 밖에 변수를 하나 설정하는게 중요. 하나씩 반복문을 돌며 반복하고, 만들어서 출력!!!\n",
    "\n",
    "# my_str을 반복하면서,\n",
    "for char in my_str:\n",
    "    # 모음이 아니면, result에 추가한다.\n",
    "# if char not in ['a', 'e', 'i', 'o', 'u']:\n",
    "    if char not in 'aeiou':\n",
    "        result += char\n",
    "# 반복문이 끝나면, 출력한다.\n",
    "print(result)"
   ]
  },
  {
   "cell_type": "code",
   "execution_count": 95,
   "metadata": {},
   "outputs": [
    {
     "name": "stdout",
     "output_type": "stream",
     "text": [
      "Lf s t shrt, y nd pythn\n"
     ]
    }
   ],
   "source": [
    "# 강사님 코드 2번\n",
    "for vowel in 'aeiou':\n",
    "    my_str = my_str.replace(vowel, '')\n",
    "print(my_str)"
   ]
  },
  {
   "cell_type": "code",
   "execution_count": 96,
   "metadata": {},
   "outputs": [
    {
     "name": "stdout",
     "output_type": "stream",
     "text": [
      "Lf s t shrt, y nd pythn\n"
     ]
    }
   ],
   "source": [
    "# 내 코드 방법1. for문으로 문자열을 찾아 없애기\n",
    "result = ''\n",
    "for i in range(len(my_str)):\n",
    "    if my_str[i] not in ['a', 'e', 'i', 'o', 'u']:\n",
    "        result += my_str[i]\n",
    "        \n",
    "print(result)\n",
    "    \n",
    "    "
   ]
  },
  {
   "cell_type": "code",
   "execution_count": 97,
   "metadata": {},
   "outputs": [
    {
     "name": "stdout",
     "output_type": "stream",
     "text": [
      "Lf s t shrt, y nd pythn\n"
     ]
    }
   ],
   "source": [
    "# 내 코드 방법2. 함수 생성하기\n",
    "def del_moeum(text):\n",
    "    moeum = 'aeiou'\n",
    "    return ''.join(x for x in text if x not in moeum)\n",
    "\n",
    "print(del_moeum(my_str))\n"
   ]
  },
  {
   "cell_type": "markdown",
   "metadata": {},
   "source": [
    "# 개인정보보호\n",
    "> 사용자의 핸드폰번호를 입력 받으려고한다. 개인정보 보호를 위하여 뒷자리 4자리를 제외하고는 마스킹 처리를 하려고한다.\n",
    ">\n",
    "> 핸드폰번호는 010으로 시작해야하고 11자리여야한다. 핸드폰번호를 입력하지 않았다면 \"핸드폰번호를 입력하세요\"를 출력한다\n",
    "\n",
    "```\n",
    "예시 입력)\n",
    "01012341234\n",
    "예시 출력)\n",
    "*******1234\n",
    "```"
   ]
  },
  {
   "cell_type": "code",
   "execution_count": 50,
   "metadata": {},
   "outputs": [
    {
     "name": "stdout",
     "output_type": "stream",
     "text": [
      "01029237502\n"
     ]
    }
   ],
   "source": [
    "phone = input()"
   ]
  },
  {
   "cell_type": "code",
   "execution_count": 101,
   "metadata": {},
   "outputs": [
    {
     "name": "stdout",
     "output_type": "stream",
     "text": [
      "*******7502\n"
     ]
    }
   ],
   "source": [
    "# 강사님 코드 1번\n",
    "\n",
    "if phone[0:3] == '010' and len(phone) == 11:\n",
    "    print('*'*7 + phone[-4:])\n",
    "else:\n",
    "    print('핸드폰번호를 입력하세요')"
   ]
  },
  {
   "cell_type": "code",
   "execution_count": 106,
   "metadata": {},
   "outputs": [
    {
     "name": "stdout",
     "output_type": "stream",
     "text": [
      "*******7502\n"
     ]
    }
   ],
   "source": [
    "# 강사님 코드 2번\n",
    "if phone.startswith('010') and len(phone) == 11:\n",
    "    print(f'{phone[-4:]:*>11}') # 별을 출력하는데 11번 오른쪽에 할거고, 앞에는 [-4:]채우기\n",
    "else:\n",
    "    print('핸드폰번호를 입력하세요')"
   ]
  },
  {
   "cell_type": "code",
   "execution_count": 100,
   "metadata": {},
   "outputs": [
    {
     "name": "stdout",
     "output_type": "stream",
     "text": [
      "*******7502\n"
     ]
    }
   ],
   "source": [
    "# 내 코드\n",
    "\n",
    "if int(len(phone)) == 11 and phone[0:3] == '010':\n",
    "    print('*******' + phone[7:11])\n",
    "else:\n",
    "    print('핸드폰번호를 입력하세요')"
   ]
  },
  {
   "cell_type": "markdown",
   "metadata": {},
   "source": [
    "# 정중앙\n",
    "> 사용자가 입력한 문자열중 가운데 글자를 출력하라. 문자열이 짝수라면 가운데 두글자를 출력하라"
   ]
  },
  {
   "cell_type": "code",
   "execution_count": 107,
   "metadata": {},
   "outputs": [
    {
     "name": "stdout",
     "output_type": "stream",
     "text": [
      "메롱시티\n"
     ]
    }
   ],
   "source": [
    "text = input()"
   ]
  },
  {
   "cell_type": "code",
   "execution_count": 110,
   "metadata": {},
   "outputs": [
    {
     "name": "stdout",
     "output_type": "stream",
     "text": [
      "롱시\n"
     ]
    }
   ],
   "source": [
    "# 강사님 코드\n",
    "num = len(text) // 2\n",
    "if len(text) % 2:\n",
    "    print(text[num])\n",
    "else:\n",
    "    print(text[num-1:num+1])"
   ]
  },
  {
   "cell_type": "code",
   "execution_count": 111,
   "metadata": {},
   "outputs": [
    {
     "name": "stdout",
     "output_type": "stream",
     "text": [
      "롱시\n"
     ]
    }
   ],
   "source": [
    "# 내 코드\n",
    "if int(len(text)) % 2 == 0:\n",
    "    print(text[len(text)//2-1: len(text)//2+1])\n",
    "else:\n",
    "    print(text[len(text)//2 : len(text)//2+1])"
   ]
  }
 ],
 "metadata": {
  "kernelspec": {
   "display_name": "Python 3",
   "language": "python",
   "name": "python3"
  },
  "language_info": {
   "codemirror_mode": {
    "name": "ipython",
    "version": 3
   },
   "file_extension": ".py",
   "mimetype": "text/x-python",
   "name": "python",
   "nbconvert_exporter": "python",
   "pygments_lexer": "ipython3",
   "version": "3.7.3"
  }
 },
 "nbformat": 4,
 "nbformat_minor": 2
}
