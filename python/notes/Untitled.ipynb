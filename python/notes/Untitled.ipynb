{
 "cells": [
  {
   "cell_type": "code",
   "execution_count": null,
   "metadata": {},
   "outputs": [],
   "source": [
    "import random\n",
    "\n",
    "class Pikachu:\n",
    "    \n",
    "    def __init__(self, name):\n",
    "        self.name = name\n",
    "        self.level = 5\n",
    "        self.hp = self.level * random.randint(15, 20)\n",
    "        self.exp = 0\n",
    "        print(f'{self.name}의 피가 {self.hp}로 설정되었습니다.')\n",
    "    \n",
    "    def bark(self):\n",
    "        return 'pikachu'\n",
    "    \n",
    "            \n",
    "    def body_attack(self, enemy):\n",
    "        print(f'{self.name}이 {enemy.name}에게 몸통박치기 공격을 하였다')\n",
    "        if random.randint(0, 1):\n",
    "            enemy.hp -= self.level * 6\n",
    "            if enemy.hp <= 0:\n",
    "                self.level += enemy.level * 15\n",
    "                self.hp -= enemy.level * 2\n",
    "                print(f'{enemy.name} K.O!! GAME OVER')\n",
    "            else:\n",
    "                print(f'★{self.name}의 몸통박치기 공격 성공★\\n {self.name}의 레벨은 {self.level}, 피는 {self.hp}가 되었다!!!!')\n",
    "        else:\n",
    "            self.hp -= enemy.level * 2\n",
    "            enemy.hp -= self.level * 2\n",
    "            print('앗! 공격 실패\\n')\n",
    "            print(f'현재 스코어 : {self.name}의 hp는 {self.hp}이고, {enemy.name}의 hp는 {enemy.hp}입니다.')\n",
    "            \n",
    "\n",
    "        \n",
    "    def thousand_volt(self, enemy):\n",
    "        print(f'{self.name}이 {enemy.name}에게 십만볼트 전기공격을 하였다')\n",
    "        if random.randint(0, 1):\n",
    "            enemy.hp -= self.level * 9\n",
    "            if enemy.hp <= 0:\n",
    "                self.level += enemy.level * 15\n",
    "                self.hp -= enemy.level * 4\n",
    "                print(f'{enemy.name} K.O!! GAME OVER')\n",
    "            else:\n",
    "                print(f'★{self.name}의 전기공격 성공★\\n {self.name}의 레벨은 {self.level}, 피는 {self.hp}가 되었다!!!!')\n",
    "        else:\n",
    "            self.hp -= enemy.level * 4\n",
    "            enemy.hp -= self.level * 4\n",
    "            print('앗! 공격실패\\n')\n",
    "            print(f'<현재 스코어 : {self.name}의 피는 {self.hp}이고, {enemy.name}의 피는 {enemy.hp}입니다.>')\n",
    "            \n",
    "    \n",
    "    def medicine(self):\n",
    "        if random.randint(0, 1):\n",
    "            \n",
    "            self.hp =+ self.level * 5\n",
    "            print('♪♪♪♪♪누군가가 물약 섭취 성공!♪♪♪♪♪')\n",
    "        else:\n",
    "            self.hp = self.hp\n",
    "        return self.hp\n",
    "            "
   ]
  },
  {
   "cell_type": "code",
   "execution_count": null,
   "metadata": {},
   "outputs": [],
   "source": [
    "turn = 1\n",
    "\n",
    "\n",
    "p1_name = input('player1의 이름 : ')\n",
    "p2_name = input('player2의 이름 : ')\n",
    "p1 = Pikachu(p1_name)\n",
    "p2 = Pikachu(p2_name)\n",
    "print('=================Game Start===============')  \n",
    "\n",
    "while True:\n",
    "    print(f'================={turn}번째 공격===============')\n",
    "    \n",
    "    if turn % 2:\n",
    "        choice = int(input('공격 종류를 선택해주세요. \\n 몸통박치기 : 0 십만볼트 전기공격 : 1 ==>   '))\n",
    "        p1.medicine()\n",
    "        \n",
    "        if choice == 0:\n",
    "            p1.body_attack(p2)\n",
    "        else:\n",
    "            p1.thousand_volt(p2)\n",
    "\n",
    "    else:\n",
    "        choice = int(input('공격 종류를 선택해주세요. \\n 몸통박치기 : 0 십만볼트 전기공격 : 1 ==>   '))\n",
    "        p2.medicine()\n",
    "        if choice == 0:\n",
    "            p2.body_attack(p1)\n",
    "        else:\n",
    "            p2.thousand_volt(p1)\n",
    "            \n",
    "            \n",
    "    turn += 1"
   ]
  },
  {
   "cell_type": "code",
   "execution_count": 10,
   "metadata": {},
   "outputs": [],
   "source": [
    "class Circle:\n",
    "    pi = 3.14\n",
    "    x = 2\n",
    "    y = 4\n",
    "    r = 3\n",
    "    \n",
    "    def __init__(self, r, x, y):\n",
    "        self.r = r\n",
    "        self.x = x\n",
    "        self.y = y\n",
    "        \n",
    "    def area(self):\n",
    "        return self.pi * self.r * self.r\n",
    "    \n",
    "    def circumference(self):\n",
    "        return 2 * self.pi * self.r\n",
    "    \n",
    "    def center(self):\n",
    "        return (self.x, self.y)"
   ]
  },
  {
   "cell_type": "code",
   "execution_count": 12,
   "metadata": {},
   "outputs": [
    {
     "data": {
      "text/plain": [
       "18.84"
      ]
     },
     "execution_count": 12,
     "metadata": {},
     "output_type": "execute_result"
    }
   ],
   "source": [
    "c1 =  Circle(3, 2, 4)\n",
    "c1.area()\n",
    "c1.circumference()"
   ]
  }
 ],
 "metadata": {
  "kernelspec": {
   "display_name": "Python 3",
   "language": "python",
   "name": "python3"
  },
  "language_info": {
   "codemirror_mode": {
    "name": "ipython",
    "version": 3
   },
   "file_extension": ".py",
   "mimetype": "text/x-python",
   "name": "python",
   "nbconvert_exporter": "python",
   "pygments_lexer": "ipython3",
   "version": "3.7.3"
  },
  "toc": {
   "base_numbering": 1,
   "nav_menu": {},
   "number_sections": true,
   "sideBar": true,
   "skip_h1_title": false,
   "title_cell": "Table of Contents",
   "title_sidebar": "Contents",
   "toc_cell": false,
   "toc_position": {},
   "toc_section_display": true,
   "toc_window_display": false
  }
 },
 "nbformat": 4,
 "nbformat_minor": 2
}
