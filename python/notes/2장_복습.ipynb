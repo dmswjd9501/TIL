{
 "cells": [
  {
   "cell_type": "markdown",
   "metadata": {},
   "source": [
    "### 제어문 ( Control of Flow ) - 1) 반복문 2) 조건문 \n",
    "                           - 이는 순서도(Flow Chart)로 표현이 가능하다."
   ]
  },
  {
   "cell_type": "code",
   "execution_count": 2,
   "metadata": {},
   "outputs": [
    {
     "name": "stdout",
     "output_type": "stream",
     "text": [
      "5 이하\n",
      "5\n"
     ]
    }
   ],
   "source": [
    "a = 5\n",
    "if a > 5:\n",
    "    print('5 초과')\n",
    "else:\n",
    "    print('5 이하')\n",
    "print(a)"
   ]
  },
  {
   "cell_type": "markdown",
   "metadata": {},
   "source": [
    "### 1.1 조건문\n",
    "if - 항상 `조건식`과 함께 사용되어야 한다"
   ]
  },
  {
   "cell_type": "markdown",
   "metadata": {},
   "source": [
    "1.1.1 조건문 연습 - 조건문을 통해 사용자가 입력한 날짜가 크리스마스인지 확인해보자.\n",
    "\n",
    "예시) 12/25 -> 크리스마스입니다.\n",
    "      그 외 -> 크리스마스가 아닙니다."
   ]
  },
  {
   "cell_type": "code",
   "execution_count": 9,
   "metadata": {},
   "outputs": [
    {
     "name": "stdout",
     "output_type": "stream",
     "text": [
      "날짜를 입력해주세요 ex)12/25 : 12/50\n",
      "크리스마스가 아닙니다.\n"
     ]
    }
   ],
   "source": [
    "is_christmas = input('날짜를 입력해주세요 ex)12/25 : ')\n",
    "\n",
    "if is_christmas == '12/25':\n",
    "    print('크리스마스입니다.')\n",
    "else:\n",
    "    print('크리스마스가 아닙니다.')"
   ]
  },
  {
   "cell_type": "markdown",
   "metadata": {},
   "source": [
    "`.split('/')`함수 : 문자열 '/'에 의해 분리되는 개수만큼 변수를 지정해주면, 각각의 변수에는 분리된 값들이 자동으로 들어간다."
   ]
  },
  {
   "cell_type": "code",
   "execution_count": 26,
   "metadata": {},
   "outputs": [
    {
     "name": "stdout",
     "output_type": "stream",
     "text": [
      "12 50\n",
      "날짜 형식이 올바르지 않습니다.\n"
     ]
    }
   ],
   "source": [
    "month, day = map(int, is_christmas.split('/'))\n",
    "print(month, day)\n",
    "if month not in range(1, 13) or day not in range(1, 32):\n",
    "    print('날짜 형식이 올바르지 않습니다.')"
   ]
  },
  {
   "cell_type": "markdown",
   "metadata": {},
   "source": [
    "### 1.1.2 조건문 활용\n",
    "\n",
    "조건문을 통해 변수 num의 값과 홀/짝 여부를 출력하세요.\n",
    "\n",
    "예시) 3 -> 홀수입니다."
   ]
  },
  {
   "cell_type": "code",
   "execution_count": 33,
   "metadata": {},
   "outputs": [
    {
     "name": "stdout",
     "output_type": "stream",
     "text": [
      "숫자를 입력하세요 : 10\n",
      "짝수입니다.\n"
     ]
    }
   ],
   "source": [
    "number = input('숫자를 입력하세요 : ')\n",
    "\n",
    "if not int(number) % 2:\n",
    "    print('짝수입니다.')\n",
    "else:\n",
    "    print('홀수입니다.')"
   ]
  },
  {
   "cell_type": "markdown",
   "metadata": {},
   "source": [
    "위에 실습에서 오류가 나온 이유 : input함수로 받는 값들은 str값이므로 `int(number)`해주어야 한다.\n",
    "\n",
    "** 여기서 조심할 점 : map(int, number)가 안되는 이유 : map은 number가 시퀀스 형태이어야 한다. 그러므로 숫자 한개가 들어올경우에는 map이 아닌 `int(number)`를 써줄 것!!\n"
   ]
  },
  {
   "cell_type": "markdown",
   "metadata": {},
   "source": [
    "### 1.2.1 복수조건문 활용\n",
    "\n",
    "조건문을 통해 변수 score에 따른 평점을 출력하세요.\n",
    "\n",
    "예시) B"
   ]
  },
  {
   "cell_type": "code",
   "execution_count": 34,
   "metadata": {},
   "outputs": [
    {
     "name": "stdout",
     "output_type": "stream",
     "text": [
      "점수를 입력하세요 : 88\n",
      "B\n"
     ]
    }
   ],
   "source": [
    "score = int(input('점수를 입력하세요 : '))\n",
    "\n",
    "if score >= 90:\n",
    "    print('A')\n",
    "elif score >= 80:\n",
    "    print('B')\n",
    "elif score >= 70:\n",
    "    print('C')\n",
    "elif score >= 60:\n",
    "    print('D')\n",
    "else:\n",
    "    print('F')"
   ]
  },
  {
   "cell_type": "markdown",
   "metadata": {},
   "source": [
    "### 1.2.2 중첩조건문 활용\n",
    "\n",
    "위의 코드를 활용하여 95점 이상이면 '참잘했어요' 같이 출력하게 해주세요.\n",
    "\n",
    "예시) A\n",
    "      참 잘했어요"
   ]
  },
  {
   "cell_type": "code",
   "execution_count": 36,
   "metadata": {},
   "outputs": [
    {
     "name": "stdout",
     "output_type": "stream",
     "text": [
      "점수를 입력하세요 : 97\n",
      "A\n",
      "참잘했어요\n"
     ]
    }
   ],
   "source": [
    "score = int(input('점수를 입력하세요 : '))\n",
    "\n",
    "if score >= 90:\n",
    "    print('A')\n",
    "    if score >= 95:\n",
    "        print('참잘했어요')\n",
    "elif score >= 80:\n",
    "    print('B')\n",
    "elif score >= 70:\n",
    "    print('C')\n",
    "elif score >= 60:\n",
    "    print('D')\n",
    "else:\n",
    "    print('F')"
   ]
  },
  {
   "cell_type": "markdown",
   "metadata": {},
   "source": [
    "### 1.3 조건 표현식(Conditional Expression)\n",
    "\n",
    "true_value if <조건식> else False_value "
   ]
  },
  {
   "cell_type": "code",
   "execution_count": 37,
   "metadata": {},
   "outputs": [
    {
     "name": "stdout",
     "output_type": "stream",
     "text": [
      "숫자를 입력하세요 : 10\n",
      "0보다 크거나 같다\n"
     ]
    }
   ],
   "source": [
    "a = int(input('숫자를 입력하세요 : '))\n",
    "print('0보다 크거나 같다') if a >= 0 else print('0보다 작다')"
   ]
  },
  {
   "cell_type": "code",
   "execution_count": 39,
   "metadata": {},
   "outputs": [
    {
     "name": "stdout",
     "output_type": "stream",
     "text": [
      "숫자를 입력하세요 : 10\n",
      "10\n"
     ]
    }
   ],
   "source": [
    "num = int(input('숫자를 입력하세요 : '))\n",
    "value = num if num >= 0 else 0\n",
    "print(value)"
   ]
  },
  {
   "cell_type": "markdown",
   "metadata": {},
   "source": [
    "### 1.3.1 조건표현식과 동일한 `if`문 작성하기\n",
    "\n",
    "아래의 코드와 동일한 if문 작성해보세요.\n",
    "\n",
    "num = -5\n",
    "\n",
    "value = num if num >= 0 else -0\n",
    "\n",
    "print(value)\n",
    "\n",
    "예시 ) 출력 \n",
    "        0"
   ]
  },
  {
   "cell_type": "code",
   "execution_count": 40,
   "metadata": {},
   "outputs": [
    {
     "name": "stdout",
     "output_type": "stream",
     "text": [
      "0\n"
     ]
    }
   ],
   "source": [
    "num = -5\n",
    "if num >= 0:\n",
    "    value = num\n",
    "else:\n",
    "    value = 0\n",
    "print(value)"
   ]
  },
  {
   "cell_type": "markdown",
   "metadata": {},
   "source": [
    "### 1.3.2 조건 표현식 만들어보기\n",
    "\n",
    "아래의 코드와 동일한 조건표현식을 작성해보세요\n",
    "\n",
    "num = 2\n",
    "\n",
    "if num % 2 == 1:\n",
    "\n",
    "      result = '홀수입니다.'\n",
    "\n",
    "else:\n",
    "\n",
    "       result = '짝수입니다.'\n",
    "       \n",
    "print(result)\n",
    "\n",
    "예시 출력) 짝수입니다."
   ]
  },
  {
   "cell_type": "code",
   "execution_count": 43,
   "metadata": {},
   "outputs": [
    {
     "name": "stdout",
     "output_type": "stream",
     "text": [
      "짝수입니다.\n"
     ]
    }
   ],
   "source": [
    "num = 2\n",
    "result = '홀수입니다.' if num % 2 ==1 else '짝수입니다.'\n",
    "print(result)"
   ]
  },
  {
   "cell_type": "markdown",
   "metadata": {},
   "source": [
    "## 2. 반복문\n",
    "\n",
    "### 2.1 `while`문\n",
    "`while`문은 조건식이 True인 경우 반복적으로 실행한다.\n",
    "그렇기 때문에, 반드시 종료조건을 설정해주어야 끝난다.\n",
    "\n",
    "`while 조건식 :`\n"
   ]
  },
  {
   "cell_type": "code",
   "execution_count": 44,
   "metadata": {},
   "outputs": [
    {
     "name": "stdout",
     "output_type": "stream",
     "text": [
      "0\n",
      "1\n",
      "2\n",
      "3\n",
      "4\n",
      "끝\n"
     ]
    }
   ],
   "source": [
    "a = 0\n",
    "while a < 5:\n",
    "    print(a)\n",
    "    a += 1\n",
    "print('끝')"
   ]
  },
  {
   "cell_type": "markdown",
   "metadata": {},
   "source": [
    "### 2.1.1 `while`문 작성하기\n",
    "\n",
    "사용자가 '안녕'이라고 입력할때까지 인사하는 코드를 작성해보세요.\n"
   ]
  },
  {
   "cell_type": "code",
   "execution_count": 45,
   "metadata": {},
   "outputs": [
    {
     "name": "stdout",
     "output_type": "stream",
     "text": [
      "안녕\n",
      "인사를 입력하세요 : 10\n",
      "안녕\n",
      "인사를 입력하세요 : 안녕\n"
     ]
    }
   ],
   "source": [
    "# 안녕 입력하지않을때 : 조건\n",
    "# '안녕' : 출력\n",
    "\n",
    "a = ''\n",
    "while a !='안녕':\n",
    "    print('안녕')\n",
    "    a = input('인사를 입력하세요 : ')\n",
    "    "
   ]
  },
  {
   "cell_type": "markdown",
   "metadata": {},
   "source": [
    "### 2.2 `for`문\n",
    "\n",
    "`for`문은 정해진 범위 내에서 순차적으로 코드를 실행한다.\n"
   ]
  },
  {
   "cell_type": "code",
   "execution_count": 46,
   "metadata": {},
   "outputs": [
    {
     "name": "stdout",
     "output_type": "stream",
     "text": [
      "1\n",
      "2\n",
      "3\n",
      "끝\n"
     ]
    }
   ],
   "source": [
    "# flowchart를 for문을 통해 코드로 작성해봅시다.\n",
    "\n",
    "my_list = [1, 2, 3]\n",
    "for a in my_list:\n",
    "    print(a)\n",
    "print('끝')"
   ]
  },
  {
   "cell_type": "markdown",
   "metadata": {},
   "source": [
    "`for i in sequence` \n",
    "\n",
    ": `for`문은 `sequence`를 순차적으로 **variable**에 값을 바인딩하며, 코드 블럭을 시행한다.\n"
   ]
  },
  {
   "cell_type": "markdown",
   "metadata": {},
   "source": [
    "### 2.2.1 `for`문 연습\n",
    "\n",
    "for문을 활용하여 사용자가 입력한 문자를 한글자씩 출력해보세요.\n",
    "\n",
    "```\n",
    "예시 출력)\n",
    "문자를 입력하세요 : 안녕!\n",
    "안\n",
    "녕\n",
    "!\n",
    "```\n"
   ]
  },
  {
   "cell_type": "code",
   "execution_count": 47,
   "metadata": {},
   "outputs": [
    {
     "name": "stdout",
     "output_type": "stream",
     "text": [
      "문자를 입력하세요 :안녕!\n",
      "안\n",
      "녕\n",
      "!\n"
     ]
    }
   ],
   "source": [
    "a = input('문자를 입력하세요 :')\n",
    "\n",
    "# str도 for문을 돌려서 한글자씩 뺄 수 있다.\n",
    "for char in a:\n",
    "    print(char)"
   ]
  },
  {
   "cell_type": "markdown",
   "metadata": {},
   "source": [
    "### 2.2.2 `for`문과 `if`문 작성하기\n",
    "\n",
    "반복문과 조건문만 활용하여 1~30까지의 숫자 중에 홀수만 담긴 리스트를 만드세요.\n",
    "\n",
    "list에서 값 추가는 `.append(value)`로 합니다.\n",
    "\n",
    "```\n",
    "예시 출력)\n",
    "[1, 3, 5, 7, 9, 11, 13, 15, 17, 19, 21, 23, 25, 27, 29]\n",
    "```"
   ]
  },
  {
   "cell_type": "code",
   "execution_count": 49,
   "metadata": {},
   "outputs": [
    {
     "name": "stdout",
     "output_type": "stream",
     "text": [
      "[1, 3, 5, 7, 9, 11, 13, 15, 17, 19, 21, 23, 25, 27, 29]\n"
     ]
    }
   ],
   "source": [
    "# for문과 if문 이용하여 작성하기\n",
    "\n",
    "result = []\n",
    "\n",
    "for num in range(1, 30):\n",
    "    if num % 2:\n",
    "        result.append(num)\n",
    "        \n",
    "print(result)"
   ]
  },
  {
   "cell_type": "code",
   "execution_count": 50,
   "metadata": {},
   "outputs": [
    {
     "data": {
      "text/plain": [
       "[1, 3, 5, 7, 9, 11, 13, 15, 17, 19, 21, 23, 25, 27, 29]"
      ]
     },
     "execution_count": 50,
     "metadata": {},
     "output_type": "execute_result"
    }
   ],
   "source": [
    "# list comprehension 사용하기\n",
    "\n",
    "[num for num in range(1, 30) if num % 2]\n",
    "\n",
    "# num에 넣어라 :for문 범위에서 : if 만약 이런 조건이면 "
   ]
  },
  {
   "cell_type": "markdown",
   "metadata": {},
   "source": []
  }
 ],
 "metadata": {
  "kernelspec": {
   "display_name": "Python 3",
   "language": "python",
   "name": "python3"
  },
  "language_info": {
   "codemirror_mode": {
    "name": "ipython",
    "version": 3
   },
   "file_extension": ".py",
   "mimetype": "text/x-python",
   "name": "python",
   "nbconvert_exporter": "python",
   "pygments_lexer": "ipython3",
   "version": "3.7.3"
  },
  "toc": {
   "base_numbering": 1,
   "nav_menu": {},
   "number_sections": true,
   "sideBar": true,
   "skip_h1_title": false,
   "title_cell": "Table of Contents",
   "title_sidebar": "Contents",
   "toc_cell": false,
   "toc_position": {},
   "toc_section_display": true,
   "toc_window_display": false
  }
 },
 "nbformat": 4,
 "nbformat_minor": 2
}
